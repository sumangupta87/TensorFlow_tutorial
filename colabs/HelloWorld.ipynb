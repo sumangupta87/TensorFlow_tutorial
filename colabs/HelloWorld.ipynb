{
  "nbformat": 4,
  "nbformat_minor": 0,
  "metadata": {
    "colab": {
      "name": "HelloWorld.ipynb",
      "provenance": [],
      "toc_visible": true,
      "include_colab_link": true
    },
    "kernelspec": {
      "name": "python3",
      "display_name": "Python 3"
    }
  },
  "cells": [
    {
      "cell_type": "markdown",
      "metadata": {
        "id": "view-in-github",
        "colab_type": "text"
      },
      "source": [
        "<a href=\"https://colab.research.google.com/github/sumangupta87/TensorFlow_tutorial/blob/main/colabs/HelloWorld.ipynb\" target=\"_parent\"><img src=\"https://colab.research.google.com/assets/colab-badge.svg\" alt=\"Open In Colab\"/></a>"
      ]
    },
    {
      "cell_type": "markdown",
      "metadata": {
        "id": "K7Txs6YVb9bG"
      },
      "source": [
        "This is my **first colab**. \n",
        "\n",
        "Here we demonstrate:\n",
        "1.   How to print using Python print statement\n",
        "2.   Perform basic mathematical operations\n",
        "\n"
      ]
    },
    {
      "cell_type": "code",
      "metadata": {
        "id": "BvZuGTkTbXBZ",
        "outputId": "c296f9c8-81c6-4edc-b573-e9fcc54dce87",
        "colab": {
          "base_uri": "https://localhost:8080/",
          "height": 34
        }
      },
      "source": [
        "print (\"Hello World!\")"
      ],
      "execution_count": null,
      "outputs": [
        {
          "output_type": "stream",
          "text": [
            "Hello World!\n"
          ],
          "name": "stdout"
        }
      ]
    },
    {
      "cell_type": "markdown",
      "metadata": {
        "id": "TUUrgZvQcaQx"
      },
      "source": [
        "Perform addition of two numbers."
      ]
    },
    {
      "cell_type": "code",
      "metadata": {
        "id": "TlytVHShcZrI",
        "outputId": "62446ec5-8a03-4da7-dbbb-79b664646fa6",
        "colab": {
          "base_uri": "https://localhost:8080/",
          "height": 34
        }
      },
      "source": [
        "a = 3\n",
        "b = 2\n",
        "y = a + b\n",
        "print (y)"
      ],
      "execution_count": null,
      "outputs": [
        {
          "output_type": "stream",
          "text": [
            "5\n"
          ],
          "name": "stdout"
        }
      ]
    },
    {
      "cell_type": "markdown",
      "metadata": {
        "id": "HRxjggxKcmcO"
      },
      "source": [
        "Initialize the variables."
      ]
    },
    {
      "cell_type": "code",
      "metadata": {
        "id": "7RcEkP0vco0K"
      },
      "source": [
        "a = 10\n",
        "b = 20"
      ],
      "execution_count": null,
      "outputs": []
    },
    {
      "cell_type": "markdown",
      "metadata": {
        "id": "OnWx0pYncrhe"
      },
      "source": [
        "Add $a$ and $b$ to get $a+b$."
      ]
    },
    {
      "cell_type": "code",
      "metadata": {
        "id": "5RgKcmxycyjX"
      },
      "source": [
        "y = a + b"
      ],
      "execution_count": null,
      "outputs": []
    },
    {
      "cell_type": "markdown",
      "metadata": {
        "id": "7Rt8fpm3c0au"
      },
      "source": [
        "Print y"
      ]
    },
    {
      "cell_type": "code",
      "metadata": {
        "id": "65Rvh7LDc1_X",
        "outputId": "40527d38-1463-40c3-fb6f-521dbabca91e",
        "colab": {
          "base_uri": "https://localhost:8080/",
          "height": 34
        }
      },
      "source": [
        "print (y)"
      ],
      "execution_count": null,
      "outputs": [
        {
          "output_type": "stream",
          "text": [
            "30\n"
          ],
          "name": "stdout"
        }
      ]
    }
  ]
}